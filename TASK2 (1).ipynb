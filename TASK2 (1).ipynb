{
  "nbformat": 4,
  "nbformat_minor": 0,
  "metadata": {
    "colab": {
      "provenance": []
    },
    "kernelspec": {
      "name": "python3",
      "display_name": "Python 3"
    },
    "language_info": {
      "name": "python"
    }
  },
  "cells": [
    {
      "cell_type": "markdown",
      "source": [
        "###**IMPORTING** **LIBRARIES**\n"
      ],
      "metadata": {
        "id": "41onA_67UBAa"
      }
    },
    {
      "cell_type": "code",
      "execution_count": null,
      "metadata": {
        "id": "c32RXjMFNL13"
      },
      "outputs": [],
      "source": [
        "import pandas as pd\n",
        "from sklearn.preprocessing import LabelEncoder\n",
        "from sklearn.feature_extraction.text import TfidfVectorizer\n",
        "from sklearn.metrics.pairwise import cosine_similarity\n"
      ]
    },
    {
      "cell_type": "markdown",
      "source": [
        "###**IMPORTING DATASET AND PREPROCESSING**"
      ],
      "metadata": {
        "id": "EHlZBB0dUKrt"
      }
    },
    {
      "cell_type": "code",
      "source": [
        "df = pd.read_csv(\"Dataset .csv\")\n",
        "mode_cuisine = df['Cuisines'].mode()[0]\n",
        "df['Cuisines'].fillna(mode_cuisine, inplace=True)"
      ],
      "metadata": {
        "id": "AoEXTRE1Nlhs"
      },
      "execution_count": null,
      "outputs": []
    },
    {
      "cell_type": "markdown",
      "source": [
        "###**CONVERTING ALL VALUES TO STRING**"
      ],
      "metadata": {
        "id": "oRk7HjAoUar9"
      }
    },
    {
      "cell_type": "code",
      "source": [
        "df['Cuisines'] = df['Cuisines'].astype(str)"
      ],
      "metadata": {
        "id": "8xId-r16OwGP"
      },
      "execution_count": null,
      "outputs": []
    },
    {
      "cell_type": "markdown",
      "source": [
        "###**ENCODING CATAGORICAL VALUES**"
      ],
      "metadata": {
        "id": "ZN8P1RwDUmnw"
      }
    },
    {
      "cell_type": "code",
      "source": [
        "label_encoders = {}\n",
        "categorical_cols = ['Country Code', 'City', 'Locality', 'Cuisines', 'Currency', 'Has Table booking', 'Has Online delivery', 'Is delivering now', 'Price range', 'Rating color', 'Rating text']"
      ],
      "metadata": {
        "id": "IPB8LGiUNzb7"
      },
      "execution_count": null,
      "outputs": []
    },
    {
      "cell_type": "code",
      "source": [
        "for col in categorical_cols:\n",
        "    le = LabelEncoder()\n",
        "    df[col] = le.fit_transform(df[col])\n",
        "    label_encoders[col] = le"
      ],
      "metadata": {
        "id": "-IWXrsvNN2pC"
      },
      "execution_count": null,
      "outputs": []
    },
    {
      "cell_type": "markdown",
      "source": [
        "###**CRITERIA FOR RECOMMENDATION**"
      ],
      "metadata": {
        "id": "HU2q9WZTU0JF"
      }
    },
    {
      "cell_type": "code",
      "source": [
        "criteria = {\n",
        "    'Cuisine': 'Chinese',\n",
        "    'Price Range': 2,\n",
        "    'Has Table booking':'yes'\n",
        "}"
      ],
      "metadata": {
        "id": "8R82v1iWOKVl"
      },
      "execution_count": null,
      "outputs": []
    },
    {
      "cell_type": "markdown",
      "source": [
        "###**CONTENT BASED FILTERING**"
      ],
      "metadata": {
        "id": "cLUhFJj6VlLm"
      }
    },
    {
      "cell_type": "code",
      "source": [
        "tfidf_vectorizer = TfidfVectorizer()\n",
        "cuisine_matrix = tfidf_vectorizer.fit_transform(df['Cuisines'].astype(str))\n"
      ],
      "metadata": {
        "id": "55SQ_X86OOU3"
      },
      "execution_count": null,
      "outputs": []
    },
    {
      "cell_type": "markdown",
      "source": [
        "###**CALCULATING COSINE SIMILARITY**"
      ],
      "metadata": {
        "id": "b3QJZ3jJVtjY"
      }
    },
    {
      "cell_type": "code",
      "source": [
        "cuisine_similarity = cosine_similarity(cuisine_matrix, cuisine_matrix)"
      ],
      "metadata": {
        "id": "54LFAWNuO4wt"
      },
      "execution_count": null,
      "outputs": []
    },
    {
      "cell_type": "markdown",
      "source": [
        "###**FUNCTION TO GET RESTAURANT RECOMMENDATION**"
      ],
      "metadata": {
        "id": "2_XIVOFlV5J1"
      }
    },
    {
      "cell_type": "code",
      "source": [
        "df['Cuisines'] = df['Cuisines'].astype(str)\n",
        "\n",
        "def get_recommendations(criteria):\n",
        "    # Filter restaurants based on criteria\n",
        "    filtered_df = df[(df['Cuisines'].str.contains(criteria['Cuisine'])) & (df['Price range'] == criteria['Price Range'])]\n",
        "    filtered_indices = filtered_df.index\n",
        "    similarity_scores = cuisine_similarity[filtered_indices].sum(axis=0)\n",
        "    sorted_indices = similarity_scores.argsort()[::-1]\n",
        "    recommended_restaurants = df.iloc[sorted_indices[:5]]\n",
        "    return recommended_restaurants[['Restaurant Name', 'Cuisines', 'Price range', 'Aggregate rating']]"
      ],
      "metadata": {
        "id": "2YFP2czIO-6p"
      },
      "execution_count": null,
      "outputs": []
    },
    {
      "cell_type": "markdown",
      "source": [
        "###**TESTING THE SYSYTEM**"
      ],
      "metadata": {
        "id": "_5DoogsOWGRv"
      }
    },
    {
      "cell_type": "code",
      "source": [
        "sample_criteria = {'Cuisine': 'Korean', 'Price Range': 2}\n",
        "recommendations = get_recommendations(sample_criteria)\n",
        "print(recommendations)"
      ],
      "metadata": {
        "colab": {
          "base_uri": "https://localhost:8080/"
        },
        "id": "1WJj5YgmQJoH",
        "outputId": "945df2d7-7da7-4c29-86f6-80d8daeb8055"
      },
      "execution_count": null,
      "outputs": [
        {
          "output_type": "stream",
          "name": "stdout",
          "text": [
            "                                Restaurant Name Cuisines  Price range  \\\n",
            "9550                   Walter's Coffee Roastery      331            1   \n",
            "3188  Cake Central - Premier Cake Design Studio      186            0   \n",
            "3186                                    Barista      331            1   \n",
            "3185                          Anil Mishtan Wala     1262            0   \n",
            "3184                                   Aka Saka      533            2   \n",
            "\n",
            "      Aggregate rating  \n",
            "9550               4.0  \n",
            "3188               3.4  \n",
            "3186               3.3  \n",
            "3185               3.1  \n",
            "3184               3.3  \n"
          ]
        }
      ]
    }
  ]
}